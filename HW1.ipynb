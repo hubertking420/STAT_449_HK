{
 "cells": [
  {
   "cell_type": "code",
   "execution_count": null,
   "id": "bad22ae0-2785-4985-812c-95803d6b9c02",
   "metadata": {},
   "outputs": [],
   "source": [
    "import pandas as pd\n",
    "\n",
    "\n",
    "cl = pd.read_excel('HW1_Data_082022.xlsx', sheet_name='CL')\n",
    "ng = pd.read_excel('HW1_Data_082022.xlsx', sheet_name='NG')\n",
    "spx = pd.read_excel('HW1_Data_082022.xlsx', sheet_name='SPX')"
   ]
  },
  {
   "cell_type": "code",
   "execution_count": 8,
   "id": "efff8243",
   "metadata": {},
   "outputs": [],
   "source": [
    "# 1: Get last trading dates\n",
    "from pandas.tseries.offsets import BDay\n",
    "\n",
    "def get_last_trading_date_cl(contract_month):\n",
    "    # Find the 25th day of the month preceding the delivery month\n",
    "    preceding_month = contract_month - pd.DateOffset(months=1)\n",
    "    target_date = pd.Timestamp(year=preceding_month.year, month=preceding_month.month, day=25)\n",
    "    \n",
    "    # If the 25th is not a business day, find the last business day before it\n",
    "    if target_date.dayofweek >= 5:  # 5 = Saturday, 6 = Sunday\n",
    "        target_date = target_date - BDay(1)\n",
    "    \n",
    "    # Find the third business day prior to the target date\n",
    "    last_trading_date = target_date - BDay(3)\n",
    "    \n",
    "    return last_trading_date\n",
    "\n",
    "def get_last_trading_date_ng(contract_month):\n",
    "    # Find the last day of the month prior to the contract month\n",
    "    preceding_month = contract_month - pd.DateOffset(months=1)\n",
    "    last_day = preceding_month + pd.offsets.MonthEnd(0)\n",
    "    \n",
    "    # Find the 3rd last business day\n",
    "    last_trading_date = last_day - BDay(2)\n",
    "    \n",
    "    return last_trading_date\n",
    "\n",
    "cl_last_trading_days = []\n",
    "ng_last_trading_days = []\n",
    "test_dates = pd.date_range(start='2000-01-01', end='2022-12-31', freq='MS')\n",
    "for date in test_dates:\n",
    "    cl_last_trading_days.append(get_last_trading_date_cl(date))\n",
    "    ng_last_trading_days.append(get_last_trading_date_ng(date))"
   ]
  },
  {
   "cell_type": "code",
   "execution_count": null,
   "id": "9eb118dc",
   "metadata": {},
   "outputs": [],
   "source": [
    "ng_last_trading_days"
   ]
  }
 ],
 "metadata": {
  "kernelspec": {
   "display_name": "Python 3 (ipykernel)",
   "language": "python",
   "name": "python3"
  },
  "language_info": {
   "codemirror_mode": {
    "name": "ipython",
    "version": 3
   },
   "file_extension": ".py",
   "mimetype": "text/x-python",
   "name": "python",
   "nbconvert_exporter": "python",
   "pygments_lexer": "ipython3",
   "version": "3.11.9"
  }
 },
 "nbformat": 4,
 "nbformat_minor": 5
}
